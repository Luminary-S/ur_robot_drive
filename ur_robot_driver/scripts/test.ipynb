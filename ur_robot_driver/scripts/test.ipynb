{
 "cells": [
  {
   "cell_type": "code",
   "execution_count": 3,
   "metadata": {},
   "outputs": [
    {
     "name": "stdout",
     "output_type": "stream",
     "text": [
      "rotation:\n",
      " [[-0.00296585 -0.25304907 -0.9674489 ]\n",
      " [-0.10744458 -0.96177195  0.25189357]\n",
      " [-0.99420665  0.10469422 -0.02433628]]\n",
      ",11 ,22 ,33\n"
     ]
    },
    {
     "data": {
      "text/plain": [
       "array([-1,  2,  3])"
      ]
     },
     "execution_count": 3,
     "metadata": {},
     "output_type": "execute_result"
    }
   ],
   "source": [
    "import numpy as np\n",
    "import quaternion # using numpy-quaternion not Quaternion\n",
    "import math\n",
    "from URutility import *\n",
    "from scipy.spatial.transform import Rotation as R\n",
    "from UtilTrans import *\n",
    "\n",
    "a=[1,2,3]\n",
    "b=[4,5,6]\n",
    "x,y,z=a\n",
    "\n",
    "0.1*np.array(a+b)\n",
    "Kxx = np.diag([10, 10, 10])\n",
    "Kxr = np.zeros((3,3))\n",
    "Krx = Kxr\n",
    "Krr = np.diag([10, 10, 10])\n",
    "Krr,Krx,Kxx,Kxr\n",
    "Smat = np.vstack((np.hstack((Kxx, Kxr)), np.hstack((Kxr, Krr))))\n",
    "FT = np.array(6*[3])\n",
    "FT.dot(Smat), FT\n",
    "# should in xyzw form\n",
    "r = R.from_quat([0.7041204401734303, -0.1279943122329314, -\n",
    "                0.6964914805048041, -0.052263556616629236]) \n",
    "print('rotation:\\n',r.as_matrix())\n",
    "a = [-2.4878, 4.5537, -7.0339, 0.0364, 0.2155, -0.08]\n",
    "b = [1.976, 1.273, 2.0045, -0.0675, 0.0057, -0.0399]\n",
    "c = [a,b]\n",
    "np.average(np.array(c), axis=0).tolist()\n",
    "np.sum(np.array(a) < np.array(b))\n",
    "10 * np.array([0.1, 0.1, 0.1, 0.001, 0.001, 0.001])\n",
    "# sum(c)\n",
    "np.abs(a)\n",
    "5//2\n",
    "trace_arg(\",11\",\",22\",\",33\")\n",
    "a1=np.array([1,2,3])\n",
    "b1 = np.array([-1,1,1])\n",
    "a1*b1"
   ]
  },
  {
   "cell_type": "markdown",
   "metadata": {},
   "source": [
    "## pyquaternion\n",
    "refer: http://kieranwynn.github.io/pyquaternion/\n",
    "1. quaternion definition using list, and trans to list\n",
    "2. quaternion definition using axis rotation\n",
    "3. quaternion differential from quaternion with angular velocity\n",
    "4. quaternion  q0 and qr obtain\n",
    "5. quaternion substract and dot product(rotation between 2 frames)\n",
    "6. quaternion inverse and normalization"
   ]
  },
  {
   "cell_type": "code",
   "execution_count": 14,
   "metadata": {},
   "outputs": [
    {
     "name": "stdout",
     "output_type": "stream",
     "text": [
      "1.0 + 1.0i + 2.0j + 0.0k\n",
      "R [[-0.33333333  0.66666667  0.66666667]\n",
      " [ 0.66666667  0.66666667 -0.33333333]\n",
      " [-0.66666667  0.33333333 -0.66666667]]\n",
      "[0. 0. 1.]\n",
      "[ 0.14213118 -0.12416109  0.98202991]\n",
      "[ 0.29457011 -0.22365854  0.92908843]\n",
      "[ 0.44909878 -0.29312841  0.84402963]\n",
      "[ 0.59738651 -0.32882557  0.73143906]\n",
      "[ 0.73143906 -0.32882557  0.59738651]\n",
      "[ 0.84402963 -0.29312841  0.44909879]\n",
      "[ 0.92908843 -0.22365854  0.29457012]\n",
      "[ 0.98202991 -0.12416109  0.14213118]\n",
      "[ 1.00000000e+00 -1.38171186e-09  1.38171186e-09]\n"
     ]
    },
    {
     "data": {
      "text/plain": [
       "Quaternion(0.0, 1.570795, 0.0, 0.0)"
      ]
     },
     "execution_count": 14,
     "metadata": {},
     "output_type": "execute_result"
    }
   ],
   "source": [
    "import numpy as np\n",
    "from pyquaternion import Quaternion\n",
    "from URutility import *\n",
    "\n",
    "### 1. quaternion definition\n",
    "qu1 = Quaternion(axis=[1, 0, 0], angle=3.14159265)\n",
    "qu2 = Quaternion(1, 1, 0, 0) # or list or tuple, w,x,y,z order\n",
    "qu3 = Quaternion(np.array([3,4,5,6]))\n",
    "qu4 = qu2.normalised\n",
    "rotation = np.eye(3)\n",
    "transformation = np.eye(4)\n",
    "q8d = Quaternion(matrix=rotation) # Using 3x3 rotation matrix\n",
    "q8dr = Quaternion(matrix=transformation) # Using 4x4 transformation matrix\n",
    "my_quaternion = qu2\n",
    "qu2 = Quaternion(vector=[0, 1, 0])\n",
    "r = my_quaternion.scalar\n",
    "v = my_quaternion.vector\n",
    "my_quaternion[2] = 2\n",
    "a = my_quaternion.elements\n",
    "print(\"{} + {}i + {}j + {}k\".format(a[0], a[1], a[2], a[3]))\n",
    "str(my_quaternion)\n",
    "\n",
    "### 2. quaternion math\n",
    "#### conjugate, normalise and inverse, rotate in xyz, to rotation matrix, bool\n",
    "unit_qu2 = qu2.normalised\n",
    "conj_qu2 = qu2.conjugate\n",
    "inv_qu2 = qu2.inverse\n",
    "norm_my_quaternion = my_quaternion.norm # L2 norm\n",
    "rotated_list = my_quaternion.rotate([1.0, 0.0, 0.0])  # Returns a list\n",
    "rotated_array = my_quaternion.rotate(np.array(\n",
    "    [1.0, 0.0, 0.0]))  # Returns a Numpy 3-array\n",
    "R = my_quaternion.rotation_matrix         # 3x3 rotation matrix\n",
    "print(\"R\",R)\n",
    "T = my_quaternion.transformation_matrix   # 4x4 transformation matrix\n",
    "Quaternion(scalar=0.0) == False\n",
    "Quaternion(1, 0, 1, 1) == Quaternion(scalar=1.0, vector=[0.0, 1.0, 1.0])\n",
    "# Numpy array of individual elements\n",
    "my_elements = my_quaternion.elements\n",
    "-my_quaternion == Quaternion(-my_elements)\n",
    "qu1 + qu2\n",
    "qu1 - qu2\n",
    "qu1 * qu2  # is the quaternion formed by Hamilton product of q1 and q2. Source The Hamiltonian product is not commutative http://www.euclideanspace.com/maths/algebra/realNormedAlgebra/quaternions/arithmetic/index.htm\n",
    "qu1 / qu2 # is the quaternion formed by Hamilton product of q1 and q2.inverse()\n",
    "qu1**2 # pow 2\n",
    "\n",
    "### 3. quaternion motion transformation\n",
    "#### differentiation\n",
    "# Rotate about z at 0.5 rotation per second\n",
    "q_dot = qu2.derivative([0, 0, 3.14159])\n",
    "#### integrate with axis speed and timestep\n",
    "q9 = Quaternion()  # null rotation\n",
    "q9.integrate([2*math.pi, 0, 0], 0.25)  # Rotate about x at 1 rotation per second, axis xyz angular velocity , other is the timestep\n",
    "q9 == Quaternion(axis=[1, 0, 0], angle=(math.pi/2))\n",
    "#### change a vector\n",
    "v = np.array([0., 0., 1.])  # Unit vector in the +z direction\n",
    "v_prime = my_quaternion.rotate(v) # define a vector and use the quaternion rotation change the vector to target\n",
    "#### insert rotation quaternion in q0 and q1, and insert points with these quaternions ########\n",
    "v = np.array([0., 0., 1.])  # Unit vector in the +z direction\n",
    "q0 = Quaternion(axis=[1, 1, 1], angle=0.0)  # Rotate 0 about x=y=z\n",
    "# Rotate 120 about x=y=z\n",
    "q1 = Quaternion(axis=[1, 1, 1], angle=2 * 3.14159265 / 3)\n",
    "for q in Quaternion.intermediates(q0, q1, 8, include_endpoints=True):\n",
    "    v_prime = q.rotate(v)\n",
    "    print(v_prime)\n",
    "########\n",
    "\n",
    "# trace_arg(qu1,qu2,qu3, qu4,q8d,q8dr)\n",
    "qu1, qu2, qu3, qu4, q8d, q8dr\n",
    "unit_qu2,conj_qu2,inv_qu2,norm_my_quaternion\n",
    "rotated_list,my_quaternion\n",
    "q_dot\n"
   ]
  },
  {
   "cell_type": "code",
   "execution_count": 15,
   "metadata": {},
   "outputs": [
    {
     "name": "stdout",
     "output_type": "stream",
     "text": [
      "[1.8972986029149108, 0.13365350035847764, -2.1646056036318657]\n",
      "quaternion(0.998157729891632, -0.000479549702829044, 0.0108298307888893, 0.0411993138443002)\n"
     ]
    },
    {
     "data": {
      "text/plain": [
       "quaternion(0.965925826289068, -0, 0, 0.258819045102521)"
      ]
     },
     "execution_count": 15,
     "metadata": {},
     "output_type": "execute_result"
    }
   ],
   "source": [
    "import numpy as np\n",
    "import quaternion  # using numpy-quaternion not Quaternion\n",
    "from UtilTrans  import *\n",
    "q1 = np.quaternion(-0.031, 0.680, 0.017, 0.733)\n",
    "q2 = np.quaternion(-0.061, 0.686, 0.045, 0.723)\n",
    "q_from_tf = np.array([-0.130, -0.653, -0.046, 0.745])\n",
    "print(quaternion2axisangle(q_from_tf))\n",
    "q1.inverse()\n",
    "delta_q = q2*q1.inverse()  # target 2, from 1 to 2, base to 0\n",
    "print(delta_q)\n",
    "q = [q2.w*q1.x - q1.w*q2.x, q2.w*q1.y - q1.w*q2.y, q2.w*q1.z - q1.w*q2.z]\n",
    "s = skew([q1.x, q1.y, q1.z])\n",
    "d2 = np.array(q) - s.dot([q2.x, q2.y, q2.z])\n",
    "d2, q1.w\n",
    "q1 = np.quaternion(1, 2, 3, 4) # w,x,y,z\n",
    "q1.normalized()\n",
    "quaternion.as_rotation_matrix(q1)\n",
    "pos = [1,0,0,30.0,0,0]\n",
    "euler_l = [i/180.0*math.pi for i in pos[3:]]\n",
    "q2=quaternion.from_euler_angles(euler_l)\n",
    "q1\n",
    "q2\n",
    "q2-q1,q1.w\n",
    "\n",
    "q2.tolist().T"
   ]
  },
  {
   "cell_type": "code",
   "execution_count": 16,
   "metadata": {},
   "outputs": [
    {
     "data": {
      "text/plain": [
       "SO3([[0, 1, 0],\n",
       "     [0, 0, 1],\n",
       "     [1, 0, 0]])"
      ]
     },
     "execution_count": 16,
     "metadata": {},
     "output_type": "execute_result"
    }
   ],
   "source": [
    "import sophus as sp\n",
    "R = sp.SO3([[0, 1, 0],\n",
    "            [0, 0, 1],\n",
    "            [1, 0, 0]])\n",
    "R"
   ]
  },
  {
   "cell_type": "code",
   "execution_count": 20,
   "metadata": {},
   "outputs": [
    {
     "ename": "NameError",
     "evalue": "name 'list_minus' is not defined",
     "output_type": "error",
     "traceback": [
      "\u001b[0;31m---------------------------------------------------------------------------\u001b[0m",
      "\u001b[0;31mNameError\u001b[0m                                 Traceback (most recent call last)",
      "\u001b[0;32m<ipython-input-20-0d6231d89d22>\u001b[0m in \u001b[0;36m<module>\u001b[0;34m\u001b[0m\n\u001b[1;32m     18\u001b[0m \u001b[0mnp\u001b[0m\u001b[0;34m.\u001b[0m\u001b[0marray\u001b[0m\u001b[0;34m(\u001b[0m\u001b[0ma2\u001b[0m\u001b[0;34m)\u001b[0m\u001b[0;34m/\u001b[0m\u001b[0mnp\u001b[0m\u001b[0;34m.\u001b[0m\u001b[0marray\u001b[0m\u001b[0;34m(\u001b[0m\u001b[0ma1\u001b[0m\u001b[0;34m)\u001b[0m\u001b[0;34m\u001b[0m\u001b[0;34m\u001b[0m\u001b[0m\n\u001b[1;32m     19\u001b[0m \u001b[0mnp\u001b[0m\u001b[0;34m.\u001b[0m\u001b[0marray\u001b[0m\u001b[0;34m(\u001b[0m\u001b[0mb2\u001b[0m\u001b[0;34m)\u001b[0m\u001b[0;34m-\u001b[0m\u001b[0mnp\u001b[0m\u001b[0;34m.\u001b[0m\u001b[0marray\u001b[0m\u001b[0;34m(\u001b[0m\u001b[0mb1\u001b[0m\u001b[0;34m)\u001b[0m\u001b[0;34m\u001b[0m\u001b[0;34m\u001b[0m\u001b[0m\n\u001b[0;32m---> 20\u001b[0;31m \u001b[0mlist_minus\u001b[0m\u001b[0;34m(\u001b[0m\u001b[0ma1\u001b[0m\u001b[0;34m,\u001b[0m\u001b[0mb1\u001b[0m\u001b[0;34m)\u001b[0m\u001b[0;34m\u001b[0m\u001b[0;34m\u001b[0m\u001b[0m\n\u001b[0m",
      "\u001b[0;31mNameError\u001b[0m: name 'list_minus' is not defined"
     ]
    }
   ],
   "source": [
    "from UtilTrans import *\n",
    "l1 = [5,4,3,6,2]\n",
    "s=\"\"\n",
    "# [s+str(i)+\",\" for i in l1]\n",
    "','.join(map(str,l1))\n",
    "# l1.pop(0)\n",
    "# l1\n",
    "a=2\n",
    "l1[-a:]\n",
    "l1.sort()\n",
    "l1[:-1]\n",
    "# def x(a):\n",
    "np.array(l1)[2]\n",
    "a1 = [ -0.2846885, -1.5490346, -0.1162675 ]\n",
    "a2 = [0.8479, 4.6139, 0.3463]\n",
    "b2 = [-1.598, -1.463, 1.342]\n",
    "b1 = [-0.2561919, -0.1076444, -1.5738151 ]\n",
    "np.array(a2)/np.array(a1)\n",
    "np.array(b2)-np.array(b1)\n",
    "# list_minus(a1,b1)"
   ]
  },
  {
   "cell_type": "code",
   "execution_count": 33,
   "metadata": {},
   "outputs": [
    {
     "data": {
      "text/plain": [
       "array([0., 0., 0., 0., 0., 0.])"
      ]
     },
     "execution_count": 33,
     "metadata": {},
     "output_type": "execute_result"
    }
   ],
   "source": [
    "from UtilTrans import *\n",
    "a1 = [ -0.2846885, -1.5490346, -0.1162675 ]\n",
    "a2 = [0.8479, 4.6139, 0.3463]\n",
    "b2 = [-1.598, -1.463, 1.342]\n",
    "b1 = [-0.2561919, -0.1076444, -1.5738151 ]\n",
    "c=np.array(a2)/np.array(a1)\n",
    "c1=np.insert(c,3,[0,0,0])\n",
    "c,c1\n",
    "0.0*np.array([1e8, 1e8, 1e8, 5, 5, 5])\n",
    "# np.array(b2)-np.array(b1)\n",
    "# list_minus(a1,b1)"
   ]
  },
  {
   "cell_type": "code",
   "execution_count": null,
   "metadata": {},
   "outputs": [
    {
     "data": {
      "text/plain": [
       "[53.91401273885349, 268.33184713375795, 18.8656050955414]"
      ]
     },
     "execution_count": 118,
     "metadata": {},
     "output_type": "execute_result"
    }
   ],
   "source": [
    "x1 =[0.9405, 4.6809, 0.3291]\n",
    "[i/3.14*180 for i in x1]"
   ]
  },
  {
   "cell_type": "code",
   "execution_count": null,
   "metadata": {},
   "outputs": [],
   "source": [
    "# import tkinter as tk\n",
    "# from tkinter import ttk\n",
    "\n",
    "# def ok_click():\n",
    "#     pass\n",
    "\n",
    "# def clear_click():\n",
    "#     pass\n",
    "\n",
    "# root = tk.Tk()\n",
    "# # lab1 = tk.Label(root, width=5, height=)\n",
    "# txt1 = tk.Text(root, width=50, height=20)\n",
    "# txt1.pack(padx=5, pady=5)\n",
    "# lab2 = tk.Label(root, width=5, height=5)\n",
    "# txt2 = tk.Text(root, width=30, height=5)\n",
    "# ok_btn = ttk.Button(root, text=\"ok\", command=ok_click)\n",
    "# clear_btn = ttk.Button(root, text=\"clear\", command=clear_click)\n",
    "\n",
    "# txt1.grid(column=0, row=0, columnspan=2)           # 放置按钮\n",
    "# txt2.grid(column=0, row=1, columnspan=1)\n",
    "# ok_btn.grid(column=0, row=2)\n",
    "# clear_btn.grid(column=1, row=2)\n",
    "\n",
    "# # # 设置文本格式tag\n",
    "# # text1.tag_config('tag_1', background='yellow',\n",
    "# #                 foreground='red')  # bg,fg 并不是它的缩写\n",
    "\n",
    "# # insert 索引表示插入光标的当前位置，并可以设置文本格式\n",
    "# txt1.insert('insert', '我今天想吃')  # 在光标位置插入\n",
    "# # text1.insert('end', '麻辣小龙虾', 'tag_1')  # 在最后位置插入\n",
    "\n",
    "# root.mainloop()\n"
   ]
  },
  {
   "cell_type": "code",
   "execution_count": null,
   "metadata": {},
   "outputs": [],
   "source": [
    "import re\n",
    "a = \"force:     x: 0.7695000171661377    y: 2.0139999389648438    z: -0.968999981880188  torque:     x: 0.015200000256299973    y: 0.033250000327825546    z: -0.04749999940395355\"\n",
    "a = \" position: [0.8203511238098145, -0.9432128111468714, -0.0330122152911585, -3.0166876951800745, 4.486150741577148, -1.4653261343585413]\"\n",
    "re.split(\"\\s*[;,\\s,\\[,\\]]\\s*\", a)\n"
   ]
  },
  {
   "cell_type": "code",
   "execution_count": null,
   "metadata": {},
   "outputs": [],
   "source": [
    "\n",
    "# import tkinter as tk\n",
    "# import tkinter.ttk as ttk\n",
    "\n",
    "# win = tk.Tk()\n",
    "# win.title(\"CommunicationTool\")\n",
    "# #setting\n",
    "# setFrame = tk.LabelFrame(win, text=\"Setting\")\n",
    "# comFrame = tk.Frame(setFrame)\n",
    "# comLable = tk.Label(comFrame, text=\"COM Port: \").pack(side=tk.LEFT)\n",
    "# comSpiner = tk.Spinbox(comFrame, text=\"COM1\").pack(side=tk.LEFT)\n",
    "# refrashButton = ttk.Button(comFrame, text=\"Refresh\").pack(side=tk.LEFT)\n",
    "# comFrame.pack(anchor=tk.W)\n",
    "# cmdFrame = tk.Frame(setFrame)\n",
    "# inputLable = tk.Label(cmdFrame, text=\"Command: \").pack(side=tk.LEFT)\n",
    "# inputEntry = tk.Entry(cmdFrame).pack(side=tk.LEFT, expand=1, fill=tk.X)\n",
    "# sendButton = ttk.Button(cmdFrame, text=\"Send\").pack(side=tk.LEFT)\n",
    "# cmdFrame.pack(anchor=tk.W, expand=1, fill=tk.X)\n",
    "# setFrame.pack(fill=tk.BOTH)\n",
    "# #output\n",
    "# outputFrame = tk.LabelFrame(win, text=\"Output\")\n",
    "# area = tk.Text(outputFrame).pack(expand=1, fill=tk.BOTH)\n",
    "# outputFrame.pack(expand=1, fill=tk.BOTH)\n",
    "\n",
    "# win.mainloop()\n"
   ]
  },
  {
   "cell_type": "code",
   "execution_count": null,
   "metadata": {},
   "outputs": [
    {
     "data": {
      "text/plain": [
       "[8.5215, -14.041, 33.782, 0.9937, -0.797, -0.5795]"
      ]
     },
     "execution_count": 1,
     "metadata": {},
     "output_type": "execute_result"
    }
   ],
   "source": [
    "from URutility import *\n",
    "from UtilTrans import *\n",
    "a=[1.2,3.4]\n",
    "[float(\"%.4f\" % float(i)) for i in a]\n",
    "F_d = [-8.5215, 14.041, -33.782, -0.9937, 0.797, 0.5795]\n",
    "force_measure_to_in_force_frame(np.array(F_d))"
   ]
  },
  {
   "cell_type": "code",
   "execution_count": null,
   "metadata": {},
   "outputs": [
    {
     "name": "stdout",
     "output_type": "stream",
     "text": [
      "['CVXOPT', 'ECOS', 'ECOS_BB', 'GLPK', 'GLPK_MI', 'OSQP', 'SCIPY', 'SCS']\n",
      "     pcost       dcost       gap    pres   dres   k/t\n",
      " 0:  2.6471e+00 -7.0588e-01  2e+01  8e-01  2e+00  1e+00\n",
      " 1:  3.0726e+00  2.8437e+00  1e+00  1e-01  2e-01  3e-01\n",
      " 2:  2.4891e+00  2.4808e+00  1e-01  1e-02  2e-02  5e-02\n",
      " 3:  2.4999e+00  2.4998e+00  1e-03  1e-04  2e-04  5e-04\n",
      " 4:  2.5000e+00  2.5000e+00  1e-05  1e-06  2e-06  5e-06\n",
      " 5:  2.5000e+00  2.5000e+00  1e-07  1e-08  2e-08  5e-08\n",
      "Optimal solution found.\n",
      "[ 5.00e-01]\n",
      "[ 1.50e+00]\n",
      "\n",
      "[[2.49999999]]\n",
      "2.4999999895543077\n"
     ]
    }
   ],
   "source": [
    "from cvxopt import matrix, solvers\n",
    "import numpy as np\n",
    "from sympy import  *\n",
    "import cvxpy as cp\n",
    "print(cp.installed_solvers())\n",
    "\n",
    "A = matrix([[-1.0, -1.0, 0.0, 1.0], [1.0, -1.0, -1.0, -2.0]])\n",
    "b = matrix([1.0, -2.0, 0.0, 4.0])\n",
    "c = matrix([2.0, 1.0])\n",
    "\n",
    "sol = solvers.lp(c, A, b)\n",
    "\n",
    "print(sol['x'])\n",
    "print(np.dot(sol['x'].T, c))\n",
    "print(sol['primal objective'])\n"
   ]
  },
  {
   "cell_type": "code",
   "execution_count": 10,
   "metadata": {},
   "outputs": [
    {
     "data": {
      "text/plain": [
       "[0.0, 0.0, 0.5, 0.3, 0.4, 0.5]"
      ]
     },
     "execution_count": 10,
     "metadata": {},
     "output_type": "execute_result"
    }
   ],
   "source": [
    "from UtilTrans import *\n",
    "\n",
    "v = [0,0, 1.5,-1.5, 0.8, 0.002]\n",
    "v = V_d_limitation(v)\n",
    "v"
   ]
  }
 ],
 "metadata": {
  "interpreter": {
   "hash": "767d51c1340bd893661ea55ea3124f6de3c7a262a8b4abca0554b478b1e2ff90"
  },
  "kernelspec": {
   "display_name": "Python 2.7.17 64-bit",
   "language": "python",
   "name": "python3"
  },
  "language_info": {
   "codemirror_mode": {
    "name": "ipython",
    "version": 3
   },
   "file_extension": ".py",
   "mimetype": "text/x-python",
   "name": "python",
   "nbconvert_exporter": "python",
   "pygments_lexer": "ipython3",
   "version": "3.6.9"
  },
  "orig_nbformat": 4
 },
 "nbformat": 4,
 "nbformat_minor": 2
}
